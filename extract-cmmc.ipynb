{
 "cells": [
  {
   "cell_type": "markdown",
   "id": "0ed36817-5bb7-4916-bc7e-71b14df4cc60",
   "metadata": {},
   "source": [
    "# Description\n",
    "Converts the [CMMC] control catalog to [OpenControl] format.\n",
    "## Data source\n",
    "- https://www.acq.osd.mil/cmmc/docs/CMMCModelExcel_V1.02_20200318.xlsx\n",
    "\n",
    "[CMMC]: https://www.acq.osd.mil/cmmc\n",
    "[OpenControl]: https://open-control.org/"
   ]
  },
  {
   "cell_type": "code",
   "execution_count": 1,
   "id": "02c7466b-2bd3-4962-bfb2-9c82bc7e290b",
   "metadata": {},
   "outputs": [],
   "source": [
    "import pandas as pd\n",
    "import yaml\n",
    "from itertools import groupby"
   ]
  },
  {
   "cell_type": "code",
   "execution_count": 2,
   "id": "8fa8ee68-0554-4315-8c2a-3d6f4a1b8334",
   "metadata": {
    "tags": []
   },
   "outputs": [],
   "source": [
    "dfs = pd.concat(pd.read_excel(\n",
    "    'CMMCModelExcel_V1.02_20200318.xlsx',\n",
    "    sheet_name=list(range(2,19)),\n",
    "    header=[0,2],\n",
    "    index_col=[0],\n",
    "))\n",
    "dfs.columns.names = ['domain','level']\n",
    "dfs.index.names = ['row','capability']"
   ]
  },
  {
   "cell_type": "code",
   "execution_count": 3,
   "id": "00692968-d084-438f-bd4a-441b8b1200c0",
   "metadata": {
    "tags": []
   },
   "outputs": [
    {
     "data": {
      "text/html": [
       "<div>\n",
       "<style scoped>\n",
       "    .dataframe tbody tr th:only-of-type {\n",
       "        vertical-align: middle;\n",
       "    }\n",
       "\n",
       "    .dataframe tbody tr th {\n",
       "        vertical-align: top;\n",
       "    }\n",
       "\n",
       "    .dataframe thead th {\n",
       "        text-align: right;\n",
       "    }\n",
       "</style>\n",
       "<table border=\"1\" class=\"dataframe\">\n",
       "  <thead>\n",
       "    <tr style=\"text-align: right;\">\n",
       "      <th></th>\n",
       "      <th>capability</th>\n",
       "      <th>domain</th>\n",
       "      <th>level</th>\n",
       "      <th>practice</th>\n",
       "    </tr>\n",
       "  </thead>\n",
       "  <tbody>\n",
       "    <tr>\n",
       "      <th>0</th>\n",
       "      <td>C001\\nEstablish system access requirements</td>\n",
       "      <td>DOMAIN: ACCESS CONTROL (AC)</td>\n",
       "      <td>Level 1 (L1)</td>\n",
       "      <td>AC.1.001\\nLimit information system access to a...</td>\n",
       "    </tr>\n",
       "    <tr>\n",
       "      <th>1</th>\n",
       "      <td>C002\\nControl internal system access</td>\n",
       "      <td>DOMAIN: ACCESS CONTROL (AC)</td>\n",
       "      <td>Level 1 (L1)</td>\n",
       "      <td>AC.1.002\\nLimit information system access to t...</td>\n",
       "    </tr>\n",
       "    <tr>\n",
       "      <th>2</th>\n",
       "      <td>C004\\nLimit data access to authorized users an...</td>\n",
       "      <td>DOMAIN: ACCESS CONTROL (AC)</td>\n",
       "      <td>Level 1 (L1)</td>\n",
       "      <td>AC.1.003\\nVerify and control/limit connections...</td>\n",
       "    </tr>\n",
       "    <tr>\n",
       "      <th>3</th>\n",
       "      <td>C004\\nLimit data access to authorized users an...</td>\n",
       "      <td>DOMAIN: ACCESS CONTROL (AC)</td>\n",
       "      <td>Level 1 (L1)</td>\n",
       "      <td>AC.1.004\\nControl information posted or proces...</td>\n",
       "    </tr>\n",
       "    <tr>\n",
       "      <th>4</th>\n",
       "      <td>C001\\nEstablish system access requirements</td>\n",
       "      <td>DOMAIN: ACCESS CONTROL (AC)</td>\n",
       "      <td>Level 2  (L2)</td>\n",
       "      <td>AC.2.005\\nProvide privacy and security notices...</td>\n",
       "    </tr>\n",
       "  </tbody>\n",
       "</table>\n",
       "</div>"
      ],
      "text/plain": [
       "                                          capability  \\\n",
       "0         C001\\nEstablish system access requirements   \n",
       "1               C002\\nControl internal system access   \n",
       "2  C004\\nLimit data access to authorized users an...   \n",
       "3  C004\\nLimit data access to authorized users an...   \n",
       "4         C001\\nEstablish system access requirements   \n",
       "\n",
       "                        domain          level  \\\n",
       "0  DOMAIN: ACCESS CONTROL (AC)   Level 1 (L1)   \n",
       "1  DOMAIN: ACCESS CONTROL (AC)   Level 1 (L1)   \n",
       "2  DOMAIN: ACCESS CONTROL (AC)   Level 1 (L1)   \n",
       "3  DOMAIN: ACCESS CONTROL (AC)   Level 1 (L1)   \n",
       "4  DOMAIN: ACCESS CONTROL (AC)  Level 2  (L2)   \n",
       "\n",
       "                                            practice  \n",
       "0  AC.1.001\\nLimit information system access to a...  \n",
       "1  AC.1.002\\nLimit information system access to t...  \n",
       "2  AC.1.003\\nVerify and control/limit connections...  \n",
       "3  AC.1.004\\nControl information posted or proces...  \n",
       "4  AC.2.005\\nProvide privacy and security notices...  "
      ]
     },
     "execution_count": 3,
     "metadata": {},
     "output_type": "execute_result"
    }
   ],
   "source": [
    "df = (dfs\n",
    "      .melt(ignore_index=False,value_name='practice')\n",
    "      .dropna()\n",
    "      .reset_index()\n",
    "      .drop('row', axis=1)\n",
    "     )\n",
    "df.head()"
   ]
  },
  {
   "cell_type": "markdown",
   "id": "6a23ca38-2330-4a31-8fa5-ef4ab5628565",
   "metadata": {},
   "source": [
    "## Verification\n",
    "Verify number of practices at each level.\n",
    "\n",
    "**Expected results:** (Ref: CMMC section 2.7.1 Figure 5 _CMMC Practices Per Level_)\n",
    "\n",
    "| Level | Count | Total |\n",
    "| --- | --- | --- |\n",
    "| ML1 |  17 |  17 |\n",
    "| ML2 |  55 |  72 |\n",
    "| ML3 |  58 | 138 |\n",
    "| ML4 |  26 | 156 |\n",
    "| ML5 |  15 | 171 |\n"
   ]
  },
  {
   "cell_type": "code",
   "execution_count": 4,
   "id": "6809e095-ec3b-4ca8-bb5c-f745d3f825e3",
   "metadata": {},
   "outputs": [
    {
     "data": {
      "text/plain": [
       "level\n",
       "Level 1 (L1)     17\n",
       "Level 2  (L2)    55\n",
       "Level 3 (L3)     58\n",
       "Level 4 (L4)     26\n",
       "Level 5 (L5)     15\n",
       "Name: practice, dtype: int64"
      ]
     },
     "execution_count": 4,
     "metadata": {},
     "output_type": "execute_result"
    }
   ],
   "source": [
    "df.groupby('level').count().practice"
   ]
  },
  {
   "cell_type": "markdown",
   "id": "f9d12c13-a0fc-41d3-917a-2c0074b0a96e",
   "metadata": {},
   "source": [
    "## Tidy up and reformat\n"
   ]
  },
  {
   "cell_type": "code",
   "execution_count": 5,
   "id": "7762a06f-4680-4240-aed7-1130be20c796",
   "metadata": {
    "tags": []
   },
   "outputs": [],
   "source": [
    "def reformatDomain(domain):\n",
    "    \"\"\"Change 'DOMAIN: XXX AND YYY (XY)' to 'Xxx and Yyy (XY)'\"\"\"\n",
    "    return (\n",
    "        domain[:-5]\n",
    "        .replace('DOMAIN: ', '')\n",
    "        .title()\n",
    "        .replace('And', 'and')\n",
    "    ) + domain[-5:]\n",
    "\n",
    "def parsePractice(cell):\n",
    "    \"\"\"Split spreadsheet cell into ID, description, and mappings\"\"\"\n",
    "    lines = cell.split('\\n')\n",
    "    return {\n",
    "        'id': lines[0],\n",
    "        'description': ' '.join([l for l in lines[1:] if not(isMappingLine(l))]),\n",
    "        'mapping': [l[2:] for l in lines[1:] if isMappingLine(l)],\n",
    "    }\n",
    "\n",
    "def isMappingLine(line):\n",
    "    \"\"\"Distinguish control mapping lines from other text\"\"\"\n",
    "    return line.startswith('\\u2022')"
   ]
  },
  {
   "cell_type": "code",
   "execution_count": 6,
   "id": "e23654c1-d183-44c7-89e8-61b0e3bbbba3",
   "metadata": {
    "tags": []
   },
   "outputs": [
    {
     "data": {
      "text/html": [
       "<div>\n",
       "<style scoped>\n",
       "    .dataframe tbody tr th:only-of-type {\n",
       "        vertical-align: middle;\n",
       "    }\n",
       "\n",
       "    .dataframe tbody tr th {\n",
       "        vertical-align: top;\n",
       "    }\n",
       "\n",
       "    .dataframe thead th {\n",
       "        text-align: right;\n",
       "    }\n",
       "</style>\n",
       "<table border=\"1\" class=\"dataframe\">\n",
       "  <thead>\n",
       "    <tr style=\"text-align: right;\">\n",
       "      <th></th>\n",
       "      <th></th>\n",
       "      <th></th>\n",
       "      <th>level</th>\n",
       "      <th>description</th>\n",
       "      <th>mapping</th>\n",
       "    </tr>\n",
       "    <tr>\n",
       "      <th>domain</th>\n",
       "      <th>capability</th>\n",
       "      <th>id</th>\n",
       "      <th></th>\n",
       "      <th></th>\n",
       "      <th></th>\n",
       "    </tr>\n",
       "  </thead>\n",
       "  <tbody>\n",
       "    <tr>\n",
       "      <th rowspan=\"5\" valign=\"top\">Access Control (AC)</th>\n",
       "      <th rowspan=\"3\" valign=\"top\">C001\\nEstablish system access requirements</th>\n",
       "      <th>AC.1.001</th>\n",
       "      <td>1</td>\n",
       "      <td>Limit information system access to authorized ...</td>\n",
       "      <td>[FAR Clause 52.204-21 b.1.i, NIST SP 800-171 R...</td>\n",
       "    </tr>\n",
       "    <tr>\n",
       "      <th>AC.2.005</th>\n",
       "      <td>2</td>\n",
       "      <td>Provide privacy and security notices consisten...</td>\n",
       "      <td>[NIST SP 800-171 Rev 1 3.1.9, NIST SP 800-53 R...</td>\n",
       "    </tr>\n",
       "    <tr>\n",
       "      <th>AC.2.006</th>\n",
       "      <td>2</td>\n",
       "      <td>Limit use of portable storage devices on exter...</td>\n",
       "      <td>[NIST SP 800-171 Rev 1 3.1.21, CIS Controls v7...</td>\n",
       "    </tr>\n",
       "    <tr>\n",
       "      <th rowspan=\"2\" valign=\"top\">C002\\nControl internal system access</th>\n",
       "      <th>AC.1.002</th>\n",
       "      <td>1</td>\n",
       "      <td>Limit information system access to the types o...</td>\n",
       "      <td>[FAR Clause 52.204-21 b.1.ii, NIST SP 800-171 ...</td>\n",
       "    </tr>\n",
       "    <tr>\n",
       "      <th>AC.2.007</th>\n",
       "      <td>2</td>\n",
       "      <td>Employ the principle of least privilege, inclu...</td>\n",
       "      <td>[NIST SP 800-171 Rev 1 3.1.5, CIS Controls v7....</td>\n",
       "    </tr>\n",
       "  </tbody>\n",
       "</table>\n",
       "</div>"
      ],
      "text/plain": [
       "                                                                        level  \\\n",
       "domain              capability                                 id               \n",
       "Access Control (AC) C001\\nEstablish system access requirements AC.1.001     1   \n",
       "                                                               AC.2.005     2   \n",
       "                                                               AC.2.006     2   \n",
       "                    C002\\nControl internal system access       AC.1.002     1   \n",
       "                                                               AC.2.007     2   \n",
       "\n",
       "                                                                                                               description  \\\n",
       "domain              capability                                 id                                                            \n",
       "Access Control (AC) C001\\nEstablish system access requirements AC.1.001  Limit information system access to authorized ...   \n",
       "                                                               AC.2.005  Provide privacy and security notices consisten...   \n",
       "                                                               AC.2.006  Limit use of portable storage devices on exter...   \n",
       "                    C002\\nControl internal system access       AC.1.002  Limit information system access to the types o...   \n",
       "                                                               AC.2.007  Employ the principle of least privilege, inclu...   \n",
       "\n",
       "                                                                                                                   mapping  \n",
       "domain              capability                                 id                                                           \n",
       "Access Control (AC) C001\\nEstablish system access requirements AC.1.001  [FAR Clause 52.204-21 b.1.i, NIST SP 800-171 R...  \n",
       "                                                               AC.2.005  [NIST SP 800-171 Rev 1 3.1.9, NIST SP 800-53 R...  \n",
       "                                                               AC.2.006  [NIST SP 800-171 Rev 1 3.1.21, CIS Controls v7...  \n",
       "                    C002\\nControl internal system access       AC.1.002  [FAR Clause 52.204-21 b.1.ii, NIST SP 800-171 ...  \n",
       "                                                               AC.2.007  [NIST SP 800-171 Rev 1 3.1.5, CIS Controls v7....  "
      ]
     },
     "execution_count": 6,
     "metadata": {},
     "output_type": "execute_result"
    }
   ],
   "source": [
    "db = (\n",
    "    df\n",
    "    .assign(domain = df.domain.apply(reformatDomain))\n",
    "    .assign(level = df.level.str.split(expand=True)[1])\n",
    "    .join(df.practice.apply(parsePractice).apply(pd.Series))\n",
    "    .drop('practice',axis=1)\n",
    "    .set_index(['domain','capability','id'])\n",
    "    .sort_index(level=['capability','id'])\n",
    ")\n",
    "db.head()"
   ]
  },
  {
   "cell_type": "markdown",
   "id": "ffe90d7a-7f23-4b1a-8052-0d0f05770731",
   "metadata": {},
   "source": [
    "# Convert to OpenControl format"
   ]
  },
  {
   "cell_type": "markdown",
   "id": "5640be0f-bb1a-455e-ba4c-2c0fecdf9501",
   "metadata": {},
   "source": [
    "## Extract control catalog"
   ]
  },
  {
   "cell_type": "code",
   "execution_count": 7,
   "id": "7a1345c5-05e8-47ae-8ae5-fc687a581d56",
   "metadata": {},
   "outputs": [],
   "source": [
    "def reformatMapping(mapping):\n",
    "    \"\"\"Reformat list of mapping records\"\"\"\n",
    "    return 'References: ' + '; '.join(mapping)"
   ]
  },
  {
   "cell_type": "code",
   "execution_count": 8,
   "id": "e801b510-a6c3-4baa-ae87-b386cb674113",
   "metadata": {
    "scrolled": true,
    "tags": []
   },
   "outputs": [],
   "source": [
    "name = 'CMMC-1.0'\n",
    "catalog = (\n",
    "    db\n",
    "    .assign(mapping = db.mapping.apply(reformatMapping))\n",
    "    .reset_index(level=['domain','capability'])\n",
    "    .rename(columns={\n",
    "        'domain': 'family',\n",
    "        'description': 'name',\n",
    "        'mapping': 'description',\n",
    "    })\n",
    "    .loc[:,['name', 'family', 'description']]\n",
    "    .to_dict('index')\n",
    ")\n",
    "catalog['name'] = name"
   ]
  },
  {
   "cell_type": "code",
   "execution_count": 9,
   "id": "9f2754c6-1ac6-4415-863a-cbd411be87eb",
   "metadata": {
    "tags": []
   },
   "outputs": [],
   "source": [
    "with open(name + '.yaml', 'w') as outfile:\n",
    "    yaml.dump(catalog, outfile)"
   ]
  },
  {
   "cell_type": "markdown",
   "id": "268e603d-3ac6-4493-9080-35a64346a3e0",
   "metadata": {},
   "source": [
    "## Extract profiles"
   ]
  },
  {
   "cell_type": "code",
   "execution_count": 10,
   "id": "86e8a99d-a89d-4e67-a6ff-bb2af568ee9a",
   "metadata": {
    "tags": []
   },
   "outputs": [],
   "source": [
    "db4 = db.reset_index(['domain','capability'],drop=True)\n",
    "for level in ['1','3']:\n",
    "    controls = db4.loc[db4.level <= level,[]]\n",
    "    pname = \"%s-ML%s\" % (name,level)\n",
    "    profile = {\n",
    "        \"name\" : pname,\n",
    "        \"standards\" : {\n",
    "            name : controls.to_dict('index')\n",
    "        }\n",
    "    }\n",
    "    with open(pname + '.yaml','w') as outfile:\n",
    "        yaml.dump(profile, outfile)"
   ]
  },
  {
   "cell_type": "markdown",
   "id": "573c3c19-e24b-476f-a816-d6c8a275d6fe",
   "metadata": {},
   "source": [
    "# Extract mappings\n",
    "\n",
    "## Notes\n",
    "- There are some inconsistencies in the original spreadsheet (e.g., `NIST 800-53 Rev 4` vs `NIST SP 800-53 Rev 4`).\n",
    "- CMMC 1.02 (2020-03-18) references expired draft NIST SP 800-171B; superseded by 800-172\n",
    "\n",
    "The `standards` dictionary maps them to names consistent with other OpenControl artifacts."
   ]
  },
  {
   "cell_type": "code",
   "execution_count": 11,
   "id": "e6610774-9b98-4646-b8d6-dcd70d21be05",
   "metadata": {},
   "outputs": [],
   "source": [
    "standards = {\n",
    "    'CERT RMM v1.2': 'CERT RMM',\n",
    "    'CIS Controls v7.1': 'CIS Controls',\n",
    "    'CMMC modification of Draft NIST SP 800-171B': 'NIST-800-172',\n",
    "    'CMMC ': 'CMMC', # account for \"CMMC modification of ...\"\n",
    "    'FAR Clause': 'FAR', # FAR Clause 52.204-21\n",
    "    'NIST 800-53 Rev 4': 'NIST-800-53',\n",
    "    'NIST SP 800-53 Rev 4': 'NIST-800-53',\n",
    "    'NIST SP 800-171 Rev 1': 'NIST-171r1',\n",
    "    'Draft NIST SP 800-171B': 'NIST-800-172',\n",
    "    'NIST CSF v1.1': 'NIST CSF',\n",
    "    'NIST CSF v1.2': 'NIST CSF',\n",
    "}\n",
    "def parseMapping(m):\n",
    "    \"\"\"Split mapping into source standard and list of controls\"\"\"\n",
    "    global standards\n",
    "    for s, r in standards.items():\n",
    "        if m.startswith(s):\n",
    "            return { 'standard': r, 'controls': m.replace(s,'') }\n",
    "    return { 'standard': 'Other', 'controls': m }\n",
    "\n",
    "def splitControls(controls):\n",
    "    \"\"\"Split comma-separated list of controls\"\"\"\n",
    "    return [c.strip().replace('(',' (') for c in controls.split(',')]"
   ]
  },
  {
   "cell_type": "code",
   "execution_count": 12,
   "id": "2b8b1f78-6b62-4afd-a805-bc66d9077b0b",
   "metadata": {
    "tags": []
   },
   "outputs": [],
   "source": [
    "selection = pd.DataFrame({ 'standard': [\n",
    "    'NIST-800-53',\n",
    "    'NIST-800-171r1',\n",
    "]})"
   ]
  },
  {
   "cell_type": "code",
   "execution_count": 13,
   "id": "6f6d5e0a-690e-4723-bde5-2d390432f3c9",
   "metadata": {},
   "outputs": [],
   "source": [
    "map_table = (\n",
    "    db.loc[:,['mapping']]\n",
    "    .explode('mapping')\n",
    "    .apply(lambda m: pd.Series(parseMapping(m.mapping)), axis=1)\n",
    ")\n",
    "# map_table.head()"
   ]
  },
  {
   "cell_type": "markdown",
   "id": "79619035-2b23-4a74-be3b-bb95c107312b",
   "metadata": {},
   "source": [
    "## Verification"
   ]
  },
  {
   "cell_type": "code",
   "execution_count": 14,
   "id": "423aae66-f35d-45e9-b255-dee76c4cd340",
   "metadata": {},
   "outputs": [
    {
     "data": {
      "text/plain": [
       "array(['AU ACSC Essential Eight', 'UK NCSC Cyber Essentials', 'CMMC',\n",
       "       'UK NCSC Cyber Essentials '], dtype=object)"
      ]
     },
     "execution_count": 14,
     "metadata": {},
     "output_type": "execute_result"
    }
   ],
   "source": [
    "# Examine which mappings are identified as \"Other\":\n",
    "map_table.loc[map_table.standard == 'Other'].controls.unique()"
   ]
  },
  {
   "cell_type": "code",
   "execution_count": 15,
   "id": "d814dea6-1b9f-4b53-b2dd-04db1a3b3043",
   "metadata": {},
   "outputs": [
    {
     "data": {
      "text/plain": [
       "array(['modification of NIST SP 800-171 3.4.8', '',\n",
       "       'modification of NIST SP 800-171 Rev 1 3.13.2'], dtype=object)"
      ]
     },
     "execution_count": 15,
     "metadata": {},
     "output_type": "execute_result"
    }
   ],
   "source": [
    "# Examine CMMC-specific mappings:\n",
    "map_table.loc[map_table.standard == 'CMMC'].controls.unique()"
   ]
  },
  {
   "cell_type": "markdown",
   "id": "adf7ed50-d19e-4b4d-8d3c-0b7fd44bdbe3",
   "metadata": {},
   "source": [
    "## Convert\n",
    "Control mapping is saved using an `ssptool` extension to OpenControl `certification` schema."
   ]
  },
  {
   "cell_type": "code",
   "execution_count": 16,
   "id": "f3150e2f-0bd8-4183-b300-c7c141e025f4",
   "metadata": {
    "scrolled": true,
    "tags": []
   },
   "outputs": [],
   "source": [
    "recs = (\n",
    "    map_table\n",
    "    .assign(controls = map_table.controls.apply(splitControls))\n",
    "    .reset_index(['domain','capability'],drop=True)\n",
    "    .reset_index(drop=False)\n",
    "    .merge(selection, on='standard')\n",
    "    .explode('controls')\n",
    "    .to_dict('records')\n",
    ")"
   ]
  },
  {
   "cell_type": "code",
   "execution_count": 17,
   "id": "d51d7fac-b6a4-43f5-90bd-9285b19c065a",
   "metadata": {
    "scrolled": true,
    "tags": []
   },
   "outputs": [],
   "source": [
    "recs_nested = {\n",
    "    n: { 'mapping': {\n",
    "        s : [e['controls'] for e in v]\n",
    "        for s, v in groupby(g, lambda x: x['standard']) \n",
    "    }}\n",
    "    for n, g in groupby(recs, lambda x: x['id'])\n",
    "}"
   ]
  },
  {
   "cell_type": "code",
   "execution_count": 18,
   "id": "8dc77a39-c542-406e-b3e7-d14a62b6147c",
   "metadata": {
    "scrolled": true,
    "tags": []
   },
   "outputs": [],
   "source": [
    "pname = name + '-mapped'\n",
    "profile = {\n",
    "    'name': pname,\n",
    "    'standards': {\n",
    "        name : recs_nested\n",
    "    }\n",
    "}"
   ]
  },
  {
   "cell_type": "code",
   "execution_count": 19,
   "id": "984c79c8-1d86-4ee4-b015-5c77f10f00e4",
   "metadata": {
    "scrolled": true,
    "tags": []
   },
   "outputs": [],
   "source": [
    "with open(pname + '.yaml', 'w') as outfile:\n",
    "    yaml.dump(profile,outfile)"
   ]
  }
 ],
 "metadata": {
  "kernelspec": {
   "display_name": "Python 3",
   "language": "python",
   "name": "python3"
  },
  "language_info": {
   "codemirror_mode": {
    "name": "ipython",
    "version": 3
   },
   "file_extension": ".py",
   "mimetype": "text/x-python",
   "name": "python",
   "nbconvert_exporter": "python",
   "pygments_lexer": "ipython3",
   "version": "3.8.8"
  },
  "toc-autonumbering": true,
  "toc-showcode": false,
  "toc-showmarkdowntxt": false,
  "toc-showtags": false
 },
 "nbformat": 4,
 "nbformat_minor": 5
}
